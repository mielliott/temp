{
 "cells": [
  {
   "cell_type": "markdown",
   "metadata": {},
   "source": [
    "# We want to calculate \"similarity\" between two records"
   ]
  },
  {
   "cell_type": "code",
   "execution_count": 1,
   "metadata": {
    "collapsed": true
   },
   "outputs": [],
   "source": [
    "import pandas as pd\n",
    "import numpy as np\n",
    "from pyspark.sql.functions import isnull, when, count"
   ]
  },
  {
   "cell_type": "code",
   "execution_count": null,
   "metadata": {},
   "outputs": [],
   "source": [
    "dataset = spark.read.parquet(\"../preston-amazon/data-processed/core.parquet\")\n",
    "totalRows = dataset.count()\n",
    "print(\"Number of rows: \" + str(totalRows))"
   ]
  },
  {
   "cell_type": "code",
   "execution_count": null,
   "metadata": {},
   "outputs": [],
   "source": [
    "#test = dataset.filter(dataset[\"`http://rs.tdwg.org/dwc/terms/scientificName`\"]==\"Abascantus grandis Becker 1977\")"
   ]
  },
  {
   "cell_type": "code",
   "execution_count": null,
   "metadata": {
    "scrolled": true
   },
   "outputs": [],
   "source": [
    "#test.show(1, vertical=True)"
   ]
  },
  {
   "cell_type": "code",
   "execution_count": null,
   "metadata": {},
   "outputs": [],
   "source": [
    "df = dataset.toPandas()"
   ]
  },
  {
   "cell_type": "code",
   "execution_count": null,
   "metadata": {
    "scrolled": true
   },
   "outputs": [],
   "source": [
    "# subset = df[df[\"http://rs.tdwg.org/dwc/terms/scientificName\"] == \"Charax sp. “Madeira”\"]\n",
    "\n",
    "#columnName = \"http://rs.tdwg.org/dwc/terms/occurrenceID\"\n",
    "#matchValue = \"244-37465-1175\"\n",
    "\n",
    "matchColumn = \"http://rs.tdwg.org/dwc/terms/scientificName\"\n",
    "matchValue = \"Charax sp. “Madeira”\"\n",
    "\n",
    "subset = df[df[matchColumn] == matchValue] \\\n",
    "    .dropna(axis=1) \\\n",
    "    .loc[:, subset.columns.str.contains(\"dwc\")]\n",
    "subset"
   ]
  },
  {
   "cell_type": "code",
   "execution_count": null,
   "metadata": {
    "scrolled": false
   },
   "outputs": [],
   "source": [
    "recordA = subset.iloc[0]\n",
    "recordA"
   ]
  },
  {
   "cell_type": "code",
   "execution_count": null,
   "metadata": {
    "scrolled": true
   },
   "outputs": [],
   "source": [
    "recordB = subset.iloc[1]\n",
    "recordB"
   ]
  },
  {
   "cell_type": "code",
   "execution_count": null,
   "metadata": {
    "collapsed": true
   },
   "outputs": [],
   "source": [
    "from difflib import SequenceMatcher"
   ]
  },
  {
   "cell_type": "code",
   "execution_count": null,
   "metadata": {
    "collapsed": true
   },
   "outputs": [],
   "source": [
    "def getFieldSimilarities(a, b, function):\n",
    "    df = pd.concat([a, b], axis=1, join=\"inner\").transpose()\n",
    "    return df.apply(lambda x: function(x.iloc[0], x.iloc[1]))\n",
    "\n",
    "def getRecordSimilarity(a, b, comparisonFuction, aggregateFunction):\n",
    "    fieldSimilarities = comparisonFuction(a, b)\n",
    "    return aggregateFunction(fieldSimilarities)"
   ]
  },
  {
   "cell_type": "markdown",
   "metadata": {},
   "source": [
    "## Field value similarity functions"
   ]
  },
  {
   "cell_type": "code",
   "execution_count": null,
   "metadata": {
    "collapsed": true
   },
   "outputs": [],
   "source": [
    "def fieldSimilarity1(a, b):\n",
    "    return SequenceMatcher(None, a, b).ratio()"
   ]
  },
  {
   "cell_type": "markdown",
   "metadata": {},
   "source": [
    "## Record similarity functions"
   ]
  },
  {
   "cell_type": "code",
   "execution_count": null,
   "metadata": {
    "scrolled": true
   },
   "outputs": [],
   "source": [
    "getRecordSimilarity(recordA, recordB, fieldSimilarity1, np.average)"
   ]
  },
  {
   "cell_type": "code",
   "execution_count": null,
   "metadata": {
    "scrolled": true
   },
   "outputs": [],
   "source": [
    "q = getFieldSimilarities(recordA, recordB, fieldSimilarity1)\n",
    "q"
   ]
  },
  {
   "cell_type": "code",
   "execution_count": null,
   "metadata": {},
   "outputs": [],
   "source": [
    "np.average(q)"
   ]
  }
 ],
 "metadata": {
  "kernelspec": {
   "display_name": "Python 3",
   "language": "python",
   "name": "python3"
  },
  "language_info": {
   "codemirror_mode": {
    "name": "ipython",
    "version": 3
   },
   "file_extension": ".py",
   "mimetype": "text/x-python",
   "name": "python",
   "nbconvert_exporter": "python",
   "pygments_lexer": "ipython3",
   "version": "3.5.2"
  }
 },
 "nbformat": 4,
 "nbformat_minor": 2
}
